{
 "cells": [
  {
   "cell_type": "markdown",
   "metadata": {},
   "source": [
    "# HW2\n",
    "## Named Entity Recognition\n",
    "\n",
    "*deadline*: 25-03-2022 00:30\n",
    "\n",
    "You should build your own NER system. You can use all pretrained models except models that trained on our test set.\n",
    "Data for this HW was taken from https://github.com/dialogue-evaluation/factRuEval-2016 and http://bsnlp.cs.helsinki.fi/shared-task.html\n",
    "\n",
    "Final score will be computed by join competition results https://www.kaggle.com/c/mipt-nlp-hw2-2022 and minimal theory.\n",
    "For the five top places you obtain additional points:\n",
    "1. 10\n",
    "2. 8\n",
    "3. 6\n",
    "4. 5\n",
    "5. 4\n",
    "\n",
    "All submissions to any task should have your team name.\n",
    "\n",
    "## Rules\n",
    "1. Homework is done in a group of up to 3 people. If you are doing a task in a group when sending to anytask, please indicate the logins of the group members so that they can be found in the anytask system.\n",
    "2. Homework is submitted through anytask, invites will be additionally sent.\n",
    "3. Homework is made in the form of a report either in a .pdf file, or in an ipython notebook.\n",
    "4. The report should contain: the numbering of tasks and items that you completed, the solution code, and a clear step-by-step description of what you did. The report should be written in an academic style, without excessive use of slang and in compliance with the norms of the Russian language.\n",
    "5. Do not copy fragments of lectures, articles and Wikipedia into your report.\n",
    "6. Reports consisting solely of code will not be validated and will automatically be scored at zero.\n",
    "7. Plagiarism and any unfair quotation leads to zeroing of the score.\n",
    "\n",
    "## Part 0 [0 points] Sample submission"
   ]
  },
  {
   "cell_type": "code",
   "execution_count": 2,
   "metadata": {},
   "outputs": [],
   "source": [
    "import pandas as pd"
   ]
  },
  {
   "cell_type": "code",
   "execution_count": 3,
   "metadata": {},
   "outputs": [],
   "source": [
    "train_df = pd.read_csv(\"train.csv\", sep=\"\\t\")"
   ]
  },
  {
   "cell_type": "code",
   "execution_count": 9,
   "metadata": {},
   "outputs": [
    {
     "data": {
      "text/html": [
       "<div>\n",
       "<style scoped>\n",
       "    .dataframe tbody tr th:only-of-type {\n",
       "        vertical-align: middle;\n",
       "    }\n",
       "\n",
       "    .dataframe tbody tr th {\n",
       "        vertical-align: top;\n",
       "    }\n",
       "\n",
       "    .dataframe thead th {\n",
       "        text-align: right;\n",
       "    }\n",
       "</style>\n",
       "<table border=\"1\" class=\"dataframe\">\n",
       "  <thead>\n",
       "    <tr style=\"text-align: right;\">\n",
       "      <th></th>\n",
       "      <th>labels</th>\n",
       "      <th>text</th>\n",
       "      <th>clf</th>\n",
       "    </tr>\n",
       "  </thead>\n",
       "  <tbody>\n",
       "    <tr>\n",
       "      <th>0</th>\n",
       "      <td>O O O O O O B_ORG I_ORG O B_LOC I_LOC O O O O ...</td>\n",
       "      <td>В понедельник 28 июня у здания мэрии Москвы на...</td>\n",
       "      <td>False</td>\n",
       "    </tr>\n",
       "    <tr>\n",
       "      <th>1</th>\n",
       "      <td>O O O O O O O O O O O B_LOC B_PER I_PER O O O ...</td>\n",
       "      <td>Среди требований , выдвигаемых организаторами ...</td>\n",
       "      <td>False</td>\n",
       "    </tr>\n",
       "    <tr>\n",
       "      <th>2</th>\n",
       "      <td>O O O O O O O O O O O O O O O O O O O O B_PER ...</td>\n",
       "      <td>Участникам акции предлагалось принести с собой...</td>\n",
       "      <td>False</td>\n",
       "    </tr>\n",
       "    <tr>\n",
       "      <th>3</th>\n",
       "      <td>O O O O O O O O O O O O O O O O O</td>\n",
       "      <td>Начало акции было намечено на 19 часов ; подчё...</td>\n",
       "      <td>True</td>\n",
       "    </tr>\n",
       "    <tr>\n",
       "      <th>4</th>\n",
       "      <td>O O O O O O O O O O O O O B_LOC I_LOC I_LOC O ...</td>\n",
       "      <td>Освещающие акцию блоггеры сообщили , что автоб...</td>\n",
       "      <td>False</td>\n",
       "    </tr>\n",
       "  </tbody>\n",
       "</table>\n",
       "</div>"
      ],
      "text/plain": [
       "                                              labels  \\\n",
       "0  O O O O O O B_ORG I_ORG O B_LOC I_LOC O O O O ...   \n",
       "1  O O O O O O O O O O O B_LOC B_PER I_PER O O O ...   \n",
       "2  O O O O O O O O O O O O O O O O O O O O B_PER ...   \n",
       "3                  O O O O O O O O O O O O O O O O O   \n",
       "4  O O O O O O O O O O O O O B_LOC I_LOC I_LOC O ...   \n",
       "\n",
       "                                                text    clf  \n",
       "0  В понедельник 28 июня у здания мэрии Москвы на...  False  \n",
       "1  Среди требований , выдвигаемых организаторами ...  False  \n",
       "2  Участникам акции предлагалось принести с собой...  False  \n",
       "3  Начало акции было намечено на 19 часов ; подчё...   True  \n",
       "4  Освещающие акцию блоггеры сообщили , что автоб...  False  "
      ]
     },
     "execution_count": 9,
     "metadata": {},
     "output_type": "execute_result"
    }
   ],
   "source": [
    "train_df.head()"
   ]
  },
  {
   "cell_type": "code",
   "execution_count": 4,
   "metadata": {},
   "outputs": [
    {
     "data": {
      "text/plain": [
       "1519"
      ]
     },
     "execution_count": 4,
     "metadata": {},
     "output_type": "execute_result"
    }
   ],
   "source": [
    "len(train_df)"
   ]
  },
  {
   "cell_type": "code",
   "execution_count": 5,
   "metadata": {},
   "outputs": [],
   "source": [
    "label_convertor = {\n",
    "    'O': 1,\n",
    "    'B_ORG': 2,\n",
    "    'I_ORG': 3,\n",
    "    'B_LOC': 4,\n",
    "    'I_LOC': 5,\n",
    "    'B_PER': 6,\n",
    "    'I_PER': 7\n",
    "}"
   ]
  },
  {
   "cell_type": "code",
   "execution_count": 6,
   "metadata": {},
   "outputs": [],
   "source": [
    "test_df = pd.read_csv(\"test.csv\", sep=\"\\t\")"
   ]
  },
  {
   "cell_type": "code",
   "execution_count": 7,
   "metadata": {},
   "outputs": [
    {
     "data": {
      "text/plain": [
       "2714"
      ]
     },
     "execution_count": 7,
     "metadata": {},
     "output_type": "execute_result"
    }
   ],
   "source": [
    "len(test_df)"
   ]
  },
  {
   "cell_type": "code",
   "execution_count": 8,
   "metadata": {},
   "outputs": [
    {
     "data": {
      "text/html": [
       "<div>\n",
       "<style scoped>\n",
       "    .dataframe tbody tr th:only-of-type {\n",
       "        vertical-align: middle;\n",
       "    }\n",
       "\n",
       "    .dataframe tbody tr th {\n",
       "        vertical-align: top;\n",
       "    }\n",
       "\n",
       "    .dataframe thead th {\n",
       "        text-align: right;\n",
       "    }\n",
       "</style>\n",
       "<table border=\"1\" class=\"dataframe\">\n",
       "  <thead>\n",
       "    <tr style=\"text-align: right;\">\n",
       "      <th></th>\n",
       "      <th>text</th>\n",
       "      <th>clf</th>\n",
       "    </tr>\n",
       "  </thead>\n",
       "  <tbody>\n",
       "    <tr>\n",
       "      <th>0</th>\n",
       "      <td>Александр Вертинский</td>\n",
       "      <td>False</td>\n",
       "    </tr>\n",
       "    <tr>\n",
       "      <th>1</th>\n",
       "      <td>« Я не знаю , зачем и кому это нужно … » 21 ма...</td>\n",
       "      <td>False</td>\n",
       "    </tr>\n",
       "    <tr>\n",
       "      <th>2</th>\n",
       "      <td>Слишком много « пустого » пространства</td>\n",
       "      <td>True</td>\n",
       "    </tr>\n",
       "    <tr>\n",
       "      <th>3</th>\n",
       "      <td>И он научился заполнять его вымыслом</td>\n",
       "      <td>True</td>\n",
       "    </tr>\n",
       "    <tr>\n",
       "      <th>4</th>\n",
       "      <td>Создал собственный театр с безумным множеством...</td>\n",
       "      <td>True</td>\n",
       "    </tr>\n",
       "  </tbody>\n",
       "</table>\n",
       "</div>"
      ],
      "text/plain": [
       "                                                text    clf\n",
       "0                               Александр Вертинский  False\n",
       "1  « Я не знаю , зачем и кому это нужно … » 21 ма...  False\n",
       "2             Слишком много « пустого » пространства   True\n",
       "3               И он научился заполнять его вымыслом   True\n",
       "4  Создал собственный театр с безумным множеством...   True"
      ]
     },
     "execution_count": 8,
     "metadata": {},
     "output_type": "execute_result"
    }
   ],
   "source": [
    "test_df.head()"
   ]
  },
  {
   "cell_type": "code",
   "execution_count": 10,
   "metadata": {},
   "outputs": [],
   "source": [
    "from collections import Counter"
   ]
  },
  {
   "cell_type": "code",
   "execution_count": 11,
   "metadata": {},
   "outputs": [],
   "source": [
    "lbls = []\n",
    "for x in train_df.labels:\n",
    "    lbls.extend(x.split())"
   ]
  },
  {
   "cell_type": "code",
   "execution_count": 12,
   "metadata": {},
   "outputs": [
    {
     "data": {
      "text/plain": [
       "Counter({'O': 25158,\n",
       "         'B_ORG': 727,\n",
       "         'I_ORG': 854,\n",
       "         'B_LOC': 888,\n",
       "         'I_LOC': 182,\n",
       "         'B_PER': 702,\n",
       "         'I_PER': 503})"
      ]
     },
     "execution_count": 12,
     "metadata": {},
     "output_type": "execute_result"
    }
   ],
   "source": [
    "Counter(lbls)"
   ]
  },
  {
   "cell_type": "code",
   "execution_count": 13,
   "metadata": {},
   "outputs": [],
   "source": [
    "tokens = []\n",
    "for x in test_df.text:\n",
    "    tokens.extend(x.split())"
   ]
  },
  {
   "cell_type": "code",
   "execution_count": 14,
   "metadata": {},
   "outputs": [],
   "source": [
    "preds = [label_convertor[\"B_LOC\"]] * len(tokens)"
   ]
  },
  {
   "cell_type": "code",
   "execution_count": 15,
   "metadata": {},
   "outputs": [],
   "source": [
    "df = pd.DataFrame({\"Predicted\": preds})"
   ]
  },
  {
   "cell_type": "code",
   "execution_count": 16,
   "metadata": {},
   "outputs": [
    {
     "data": {
      "text/plain": [
       "56409"
      ]
     },
     "execution_count": 16,
     "metadata": {},
     "output_type": "execute_result"
    }
   ],
   "source": [
    "len(df)"
   ]
  },
  {
   "cell_type": "code",
   "execution_count": 17,
   "metadata": {},
   "outputs": [],
   "source": [
    "df.to_csv(\"sample_submission.csv\", sep=\",\", index_label=\"Id\")"
   ]
  },
  {
   "cell_type": "markdown",
   "metadata": {},
   "source": [
    "\n",
    "## Part 1 [3 point] Analyze and prepare.\n",
    "1. Analyze distribution of labels and draw a plot.\n",
    "2. Remove unexcepted labels from data (if it's needed) and describe how (if it's needed).\n",
    "\n",
    "## Part 2 [4 point] Try a baseline.\n",
    "1. Performe baseline from this tutorial https://sklearn-crfsuite.readthedocs.io/en/latest/tutorial.html.\n",
    "2. Make crossvalidation.\n",
    "3. Describe your features and results.\n",
    "\n",
    "## Part 3. [2 point] Try your favorite ML algorithm.\n",
    "1. Make submission to leaderboard and beat with your favorite ML algorithm (0.55 macro f1).\n",
    "2. Plot learning curves (if your algo is not rule-based).\n",
    "3. Describe your solution (or one of your solutions) and results.\n",
    "Also here your can do many experiments.\n",
    "\n",
    "## Part 4. [1 point] Results.\n",
    "Describe your results and experiments."
   ]
  },
  {
   "cell_type": "code",
   "execution_count": null,
   "metadata": {},
   "outputs": [],
   "source": []
  }
 ],
 "metadata": {
  "kernelspec": {
   "display_name": "Python 3 (ipykernel)",
   "language": "python",
   "name": "python3"
  },
  "language_info": {
   "codemirror_mode": {
    "name": "ipython",
    "version": 3
   },
   "file_extension": ".py",
   "mimetype": "text/x-python",
   "name": "python",
   "nbconvert_exporter": "python",
   "pygments_lexer": "ipython3",
   "version": "3.7.12"
  }
 },
 "nbformat": 4,
 "nbformat_minor": 4
}
