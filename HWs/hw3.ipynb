{
 "cells": [
  {
   "cell_type": "markdown",
   "metadata": {
    "id": "UmCHf7bnfuyy"
   },
   "source": [
    "# HW3\n",
    "\n",
    "*deadline*: 05/25/2022 11:59 PM"
   ]
  },
  {
   "cell_type": "markdown",
   "metadata": {
    "id": "s7NmjinvfxF0"
   },
   "source": [
    "Using [transformers](https://github.com/huggingface/transformers) library solve the [sentiment classification task](https://ai.stanford.edu/~amaas/data/sentiment/).\n",
    "\n",
    "In this homework you should explore sentiment task; make a simple classifier with BERT embeddings to predict if the hypothesis is entailed from the premise text or not; finetune BERT-based model on sentiment task; make LM model and again finetune on the classification task; compare the results of classifiers and describe your results.\n",
    "\n",
    "You shoold also make submission to leaderboard https://www.kaggle.com/competitions/mipt-nlp-hw3-2022/.\n",
    "\n",
    "Final score will be computed by join between the tasks below and competition results https://www.kaggle.com/competitions/mipt-nlp-hw3-2022/.\n",
    "For the five top places you obtain additional points:\n",
    "\n",
    "* 1 - 10\n",
    "* 2 - 8\n",
    "* 3 - 6\n",
    "* 4 - 5\n",
    "* 5 - 4"
   ]
  },
  {
   "cell_type": "markdown",
   "metadata": {
    "id": "v_sdVXXOguAf"
   },
   "source": [
    "### Rules\n",
    "\n",
    "* Homework is submitted through anytask\n",
    "* Homework should be done in a group of up to 3 people. \n",
    "If you are doing a task in a group, please indicate in anytask system the logins of the group members so that they can be found.\n",
    "* Homework is made in the form of a report either in a .pdf file, or in an ipython notebook.\n",
    "* The report should contain: \n",
    "  - the numbering of tasks and items that you completed, \n",
    "  - the solution code, and \n",
    "  - a clear step-by-step description of what you did. The report should be written in an academic style, without excessive use of slang and in compliance with the norms of the Russian language.\n",
    "* Do not copy fragments of lectures, articles and Wikipedia into your report.\n",
    "* Reports consisting solely of code will not be validated and will automatically be scored at zero.\n",
    "* Plagiarism and any unfair quotation leads to zeroing of the score.\n"
   ]
  },
  {
   "cell_type": "markdown",
   "metadata": {
    "id": "ooPxcyV7P8C5"
   },
   "source": [
    "#### Part 0. [1 point] Get embeddings\n",
    "\n",
    "Take any BERT model and get BERT embeddings from the train dataset (or train + dev)."
   ]
  },
  {
   "cell_type": "markdown",
   "metadata": {
    "id": "jPZI5h1rguDx"
   },
   "source": [
    "#### Part 1. [2 point] Explore your data\n",
    "\n",
    "* Make a 2D reduction and draw plot for train labels.\n",
    "* Analyze your results. "
   ]
  },
  {
   "cell_type": "markdown",
   "metadata": {
    "id": "i-lcOJlQguGZ"
   },
   "source": [
    "#### Part 2. [3 points] Make first classifier\n",
    "\n",
    "* Use pretrained embeddings as features to classifier. You can use for example SVM or LinearRegression.\n",
    "* Evaluate yourself by test dataset labels, do not use for train!"
   ]
  },
  {
   "cell_type": "markdown",
   "metadata": {
    "id": "1wPYE5x6g1dd"
   },
   "source": [
    "#### Part 3. [4 points] Finetune on Classification task\n",
    "\n",
    "* Finetune on a classification task with BERT-based model you chose in the 0 part\n",
    "* Evaluate yourself by test dataset labels, do not use for train!"
   ]
  },
  {
   "cell_type": "markdown",
   "metadata": {
    "id": "skk90DcjUzyK"
   },
   "source": [
    "#### Part 4. [4 points] Finetune LM\n",
    "* Finetune language model with BERT-based model you chose in the 0 part.\n",
    "* Draw a plot (like you did in part 0 and 1)"
   ]
  },
  {
   "cell_type": "markdown",
   "metadata": {
    "id": "lEbrqDdSVcyH"
   },
   "source": [
    "#### Part 5. [4 points] Finetune on classification task your new LM model\n",
    "\n",
    "* Finetune on a classification task with BERT-based model you've done in part 4\n",
    "* Evaluate yourself by test dataset labels, do not use for train!"
   ]
  },
  {
   "cell_type": "markdown",
   "metadata": {},
   "source": [
    "#### Submit your best model to liderboard"
   ]
  },
  {
   "cell_type": "markdown",
   "metadata": {
    "id": "pBtNUWBTuh2a"
   },
   "source": [
    "#### Part 6. [2 point] Results\n",
    "\n",
    "* Describe your results and experiments. Compare results from tree classifiers. "
   ]
  },
  {
   "cell_type": "markdown",
   "metadata": {
    "id": "geHqcANQYGaP"
   },
   "source": [
    "**TOTALLY: you can get maximum 20 points**"
   ]
  },
  {
   "cell_type": "markdown",
   "metadata": {
    "id": "wrSgHhczg4DE"
   },
   "source": [
    "#### Load Data"
   ]
  },
  {
   "cell_type": "code",
   "execution_count": null,
   "metadata": {
    "colab": {
     "base_uri": "https://localhost:8080/"
    },
    "id": "9Os4qLtxfalq",
    "outputId": "0383f0c3-74cf-4bb0-81d8-d92336612ae1"
   },
   "outputs": [],
   "source": [
    "!pip install datasets"
   ]
  },
  {
   "cell_type": "code",
   "execution_count": null,
   "metadata": {},
   "outputs": [],
   "source": [
    "import datasets"
   ]
  },
  {
   "cell_type": "code",
   "execution_count": null,
   "metadata": {
    "colab": {
     "base_uri": "https://localhost:8080/"
    },
    "id": "N7YWSMew3msD",
    "outputId": "2afefda2-a451-49e0-a82b-71b55afe9be3"
   },
   "outputs": [],
   "source": [
    "ds = datasets.load_dataset(\"imdb\")"
   ]
  },
  {
   "cell_type": "code",
   "execution_count": null,
   "metadata": {},
   "outputs": [],
   "source": [
    "train, test = ds[\"train\"], ds[\"test\"]"
   ]
  },
  {
   "cell_type": "markdown",
   "metadata": {},
   "source": [
    "### do not use ds[\"test\"] for train!"
   ]
  },
  {
   "cell_type": "code",
   "execution_count": null,
   "metadata": {},
   "outputs": [],
   "source": []
  }
 ],
 "metadata": {
  "colab": {
   "collapsed_sections": [],
   "name": "HW3.ipynb",
   "provenance": []
  },
  "kernelspec": {
   "display_name": "Python 3 (ipykernel)",
   "language": "python",
   "name": "python3"
  },
  "language_info": {
   "codemirror_mode": {
    "name": "ipython",
    "version": 3
   },
   "file_extension": ".py",
   "mimetype": "text/x-python",
   "name": "python",
   "nbconvert_exporter": "python",
   "pygments_lexer": "ipython3",
   "version": "3.9.7"
  }
 },
 "nbformat": 4,
 "nbformat_minor": 1
}
