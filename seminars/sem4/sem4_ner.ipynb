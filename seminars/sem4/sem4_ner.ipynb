{
  "nbformat": 4,
  "nbformat_minor": 0,
  "metadata": {
    "kernelspec": {
      "display_name": "Python 3",
      "language": "python",
      "name": "python3"
    },
    "language_info": {
      "codemirror_mode": {
        "name": "ipython",
        "version": 3
      },
      "file_extension": ".py",
      "mimetype": "text/x-python",
      "name": "python",
      "nbconvert_exporter": "python",
      "pygments_lexer": "ipython3",
      "version": "3.7.8"
    },
    "colab": {
      "name": "sem4_ner.ipynb",
      "provenance": [],
      "collapsed_sections": []
    },
    "accelerator": "GPU"
  },
  "cells": [
    {
      "cell_type": "markdown",
      "metadata": {
        "id": "A2_-oFtRUYvM"
      },
      "source": [
        "### Install env"
      ]
    },
    {
      "cell_type": "code",
      "metadata": {
        "id": "fCTgJmMjUYvQ"
      },
      "source": [
        "!pip install gensim"
      ],
      "execution_count": null,
      "outputs": []
    },
    {
      "cell_type": "code",
      "metadata": {
        "id": "7VF5E2pYUYvR"
      },
      "source": [
        "!wget https://rusvectores.org/static/models/rusvectores4/fasttext/araneum_none_fasttextskipgram_300_5_2018.tgz"
      ],
      "execution_count": null,
      "outputs": []
    },
    {
      "cell_type": "code",
      "metadata": {
        "id": "HFFsUcMpUYvR"
      },
      "source": [
        "!tar -xzf araneum_none_fasttextskipgram_300_5_2018.tgz"
      ],
      "execution_count": 7,
      "outputs": []
    },
    {
      "cell_type": "code",
      "metadata": {
        "id": "GEtcwrPSUYvR"
      },
      "source": [
        "!pip install sklearn-crfsuite"
      ],
      "execution_count": null,
      "outputs": []
    },
    {
      "cell_type": "code",
      "metadata": {
        "id": "L9nDDIiqVrUM"
      },
      "source": [
        "!git clone https://github.com/king-menin/mipt-nlp2021.git"
      ],
      "execution_count": 14,
      "outputs": []
    },
    {
      "cell_type": "code",
      "metadata": {
        "id": "Lli1d2BiWN1C"
      },
      "source": [
        "!pip install tensorboardX"
      ],
      "execution_count": null,
      "outputs": []
    },
    {
      "cell_type": "markdown",
      "metadata": {
        "id": "eeUgkrj7UYvS"
      },
      "source": [
        "Data from https://github.com/dialogue-evaluation/factRuEval-2016"
      ]
    },
    {
      "cell_type": "code",
      "metadata": {
        "colab": {
          "base_uri": "https://localhost:8080/"
        },
        "id": "IcQWK_0eVzeL",
        "outputId": "0b92bb1f-a7ee-4de3-9108-357f9bd1c1d2"
      },
      "source": [
        "!ls mipt-nlp2021/seminars/sem4/"
      ],
      "execution_count": 15,
      "outputs": [
        {
          "output_type": "stream",
          "text": [
            "sem4_ner.ipynb\tsrc  test.csv  train.csv\n"
          ],
          "name": "stdout"
        }
      ]
    },
    {
      "cell_type": "markdown",
      "metadata": {
        "id": "A1OoUUquUYvS"
      },
      "source": [
        "### Run exps\n",
        "FactRuEval-2016 competition of NER\n",
        "http://www.dialog-21.ru/evaluation/2016/letter/\n",
        "\n"
      ]
    },
    {
      "cell_type": "code",
      "metadata": {
        "id": "Gtw3BFiJUYvS"
      },
      "source": [
        "%load_ext autoreload\n",
        "%autoreload 2\n",
        "\n",
        "\n",
        "import sys\n",
        "import warnings\n",
        "\n",
        "\n",
        "warnings.filterwarnings(\"ignore\")\n",
        "sys.path.append(\"mipt-nlp2021/seminars/sem4/\")"
      ],
      "execution_count": 1,
      "outputs": []
    },
    {
      "cell_type": "code",
      "metadata": {
        "id": "wKQHPYKvUYvT",
        "colab": {
          "base_uri": "https://localhost:8080/"
        },
        "outputId": "4d05ebfb-222b-42a9-f40b-e3fe7c191602"
      },
      "source": [
        "import gensim"
      ],
      "execution_count": 3,
      "outputs": [
        {
          "output_type": "stream",
          "text": [
            "INFO:summarizer.preprocessing.cleaner:'pattern' package not found; tag filters are not available for English\n"
          ],
          "name": "stderr"
        }
      ]
    },
    {
      "cell_type": "code",
      "metadata": {
        "id": "ECqq2qmuUYvT",
        "colab": {
          "base_uri": "https://localhost:8080/"
        },
        "outputId": "d5278ffc-84cd-4829-9028-28e142372ddb"
      },
      "source": [
        "model = gensim.models.KeyedVectors.load('araneum_none_fasttextskipgram_300_5_2018.model')"
      ],
      "execution_count": 4,
      "outputs": [
        {
          "output_type": "stream",
          "text": [
            "INFO:gensim.utils:loading Word2VecKeyedVectors object from araneum_none_fasttextskipgram_300_5_2018.model\n",
            "INFO:gensim.utils:loading vectors_ngrams from araneum_none_fasttextskipgram_300_5_2018.model.vectors_ngrams.npy with mmap=None\n",
            "INFO:gensim.utils:loading vectors from araneum_none_fasttextskipgram_300_5_2018.model.vectors.npy with mmap=None\n",
            "INFO:gensim.utils:loading vectors_vocab from araneum_none_fasttextskipgram_300_5_2018.model.vectors_vocab.npy with mmap=None\n",
            "INFO:gensim.utils:setting ignored attribute vectors_vocab_norm to None\n",
            "INFO:gensim.utils:setting ignored attribute vectors_ngrams_norm to None\n",
            "INFO:gensim.utils:setting ignored attribute vectors_norm to None\n",
            "INFO:gensim.utils:setting ignored attribute buckets_word to None\n",
            "INFO:gensim.utils:loaded araneum_none_fasttextskipgram_300_5_2018.model\n"
          ],
          "name": "stderr"
        }
      ]
    },
    {
      "cell_type": "code",
      "metadata": {
        "id": "Ha0vQDbcUYvT"
      },
      "source": [
        "from src.learner import NerLearner, validate_step"
      ],
      "execution_count": 2,
      "outputs": []
    },
    {
      "cell_type": "code",
      "metadata": {
        "id": "Dof6Tn7CUYvT"
      },
      "source": [
        "import pandas as pd"
      ],
      "execution_count": 5,
      "outputs": []
    },
    {
      "cell_type": "code",
      "metadata": {
        "id": "QI3Xs390UYvT"
      },
      "source": [
        "df = pd.read_csv(\"mipt-nlp2021/seminars/sem4/train.csv\", sep=\"\\t\")"
      ],
      "execution_count": 6,
      "outputs": []
    },
    {
      "cell_type": "code",
      "metadata": {
        "id": "hDar1X7SUYvU",
        "colab": {
          "base_uri": "https://localhost:8080/",
          "height": 204
        },
        "outputId": "2a58a65b-894c-4682-b631-60d1593c5a23"
      },
      "source": [
        "df.head()"
      ],
      "execution_count": 7,
      "outputs": [
        {
          "output_type": "execute_result",
          "data": {
            "text/html": [
              "<div>\n",
              "<style scoped>\n",
              "    .dataframe tbody tr th:only-of-type {\n",
              "        vertical-align: middle;\n",
              "    }\n",
              "\n",
              "    .dataframe tbody tr th {\n",
              "        vertical-align: top;\n",
              "    }\n",
              "\n",
              "    .dataframe thead th {\n",
              "        text-align: right;\n",
              "    }\n",
              "</style>\n",
              "<table border=\"1\" class=\"dataframe\">\n",
              "  <thead>\n",
              "    <tr style=\"text-align: right;\">\n",
              "      <th></th>\n",
              "      <th>labels</th>\n",
              "      <th>text</th>\n",
              "      <th>clf</th>\n",
              "    </tr>\n",
              "  </thead>\n",
              "  <tbody>\n",
              "    <tr>\n",
              "      <th>0</th>\n",
              "      <td>O O O O O O B_ORG I_ORG O B_LOC I_LOC O O O O ...</td>\n",
              "      <td>В понедельник 28 июня у здания мэрии Москвы на...</td>\n",
              "      <td>False</td>\n",
              "    </tr>\n",
              "    <tr>\n",
              "      <th>1</th>\n",
              "      <td>O O O O O O O O O O O B_LOC B_PER I_PER O O O ...</td>\n",
              "      <td>Среди требований , выдвигаемых организаторами ...</td>\n",
              "      <td>False</td>\n",
              "    </tr>\n",
              "    <tr>\n",
              "      <th>2</th>\n",
              "      <td>O O O O O O O O O O O O O O O O O O O O B_PER ...</td>\n",
              "      <td>Участникам акции предлагалось принести с собой...</td>\n",
              "      <td>False</td>\n",
              "    </tr>\n",
              "    <tr>\n",
              "      <th>3</th>\n",
              "      <td>O O O O O O O O O O O O O O O O O</td>\n",
              "      <td>Начало акции было намечено на 19 часов ; подчё...</td>\n",
              "      <td>True</td>\n",
              "    </tr>\n",
              "    <tr>\n",
              "      <th>4</th>\n",
              "      <td>O O O O O O O O O O O O O B_LOC I_LOC I_LOC O ...</td>\n",
              "      <td>Освещающие акцию блоггеры сообщили , что автоб...</td>\n",
              "      <td>False</td>\n",
              "    </tr>\n",
              "  </tbody>\n",
              "</table>\n",
              "</div>"
            ],
            "text/plain": [
              "                                              labels  ...    clf\n",
              "0  O O O O O O B_ORG I_ORG O B_LOC I_LOC O O O O ...  ...  False\n",
              "1  O O O O O O O O O O O B_LOC B_PER I_PER O O O ...  ...  False\n",
              "2  O O O O O O O O O O O O O O O O O O O O B_PER ...  ...  False\n",
              "3                  O O O O O O O O O O O O O O O O O  ...   True\n",
              "4  O O O O O O O O O O O O O B_LOC I_LOC I_LOC O ...  ...  False\n",
              "\n",
              "[5 rows x 3 columns]"
            ]
          },
          "metadata": {
            "tags": []
          },
          "execution_count": 7
        }
      ]
    },
    {
      "cell_type": "code",
      "metadata": {
        "id": "hP-ic5t9UYvV"
      },
      "source": [
        "learn = NerLearner(\n",
        "    train_df_path=\"mipt-nlp2021/seminars/sem4/train.csv\",\n",
        "    valid_df_path=\"mipt-nlp2021/seminars/sem4/test.csv\",\n",
        "    embedder=model,\n",
        "    tensorboard_dir=\"logs\",\n",
        "    hidden_dim=1024,\n",
        "    lr=0.0004,\n",
        "    use_embeds=False\n",
        ")"
      ],
      "execution_count": 8,
      "outputs": []
    },
    {
      "cell_type": "code",
      "metadata": {
        "id": "dKfIQOSUUYvV",
        "colab": {
          "base_uri": "https://localhost:8080/"
        },
        "outputId": "e1760343-32ab-4dd1-e250-8ab954f82c41"
      },
      "source": [
        "sum([p.numel() for p in learn.model.parameters() if p.requires_grad])"
      ],
      "execution_count": 9,
      "outputs": [
        {
          "output_type": "execute_result",
          "data": {
            "text/plain": [
              "3863148"
            ]
          },
          "metadata": {
            "tags": []
          },
          "execution_count": 9
        }
      ]
    },
    {
      "cell_type": "code",
      "metadata": {
        "colab": {
          "base_uri": "https://localhost:8080/"
        },
        "id": "Cb9-BfK9Ygoq",
        "outputId": "35853051-1f93-4817-bc6b-825dd3f4ae05"
      },
      "source": [
        "learn.model"
      ],
      "execution_count": 10,
      "outputs": [
        {
          "output_type": "execute_result",
          "data": {
            "text/plain": [
              "BiLSTMCRF(\n",
              "  (lstm): BiLSTM(\n",
              "    (dropout): Dropout(p=0.3, inplace=False)\n",
              "    (lstm): LSTM(300, 512, batch_first=True, bidirectional=True)\n",
              "  )\n",
              "  (crf): CRFDecoder(\n",
              "    (input_dropout): Dropout(p=0.5, inplace=False)\n",
              "    (linear): Linears(\n",
              "      (linears): ModuleList(\n",
              "        (0): Linear(in_features=1024, out_features=512, bias=True)\n",
              "      )\n",
              "      (output_linear): Linear(in_features=512, out_features=8, bias=True)\n",
              "    )\n",
              "    (crf): CRF()\n",
              "  )\n",
              ")"
            ]
          },
          "metadata": {
            "tags": []
          },
          "execution_count": 10
        }
      ]
    },
    {
      "cell_type": "code",
      "metadata": {
        "id": "eQJ7P5EMUYvV"
      },
      "source": [
        "# for b in learn.data.train_dl:\n",
        "#     break"
      ],
      "execution_count": null,
      "outputs": []
    },
    {
      "cell_type": "code",
      "metadata": {
        "id": "TPWmDPn2UYvV"
      },
      "source": [
        "# learn.model.forward(b)"
      ],
      "execution_count": null,
      "outputs": []
    },
    {
      "cell_type": "code",
      "metadata": {
        "scrolled": true,
        "id": "0ocDb2rjUYvW"
      },
      "source": [
        "learn.fit(10)"
      ],
      "execution_count": null,
      "outputs": []
    },
    {
      "cell_type": "code",
      "metadata": {
        "id": "y6HbEHMEUYvW",
        "outputId": "a930f2b5-4f1c-43eb-9d1c-73f416bebace"
      },
      "source": [
        "print(validate_step(learn.data.valid_dl, learn.model, learn.data.train_ds.idx2label))"
      ],
      "execution_count": null,
      "outputs": [
        {
          "output_type": "stream",
          "text": [
            "                                                 \r"
          ],
          "name": "stderr"
        },
        {
          "output_type": "stream",
          "text": [
            "              precision    recall  f1-score   support\n",
            "\n",
            "       B_LOC      0.333     0.014     0.026      1324\n",
            "       B_ORG      0.513     0.118     0.191      1905\n",
            "       B_PER      0.245     0.017     0.032      1335\n",
            "       I_LOC      0.286     0.009     0.017       233\n",
            "       I_ORG      0.478     0.137     0.213      1960\n",
            "       I_PER      0.291     0.055     0.093       777\n",
            "           O      0.880     0.993     0.933     48875\n",
            "\n",
            "    accuracy                          0.870     56409\n",
            "   macro avg      0.432     0.192     0.215     56409\n",
            "weighted avg      0.816     0.870     0.825     56409\n",
            "\n"
          ],
          "name": "stdout"
        }
      ]
    },
    {
      "cell_type": "markdown",
      "metadata": {
        "id": "R4mxqDl5UYvW"
      },
      "source": [
        "### Try to learn embeddings"
      ]
    },
    {
      "cell_type": "code",
      "metadata": {
        "id": "8_pItVAAUYvW"
      },
      "source": [
        "learn = NerLearner(\n",
        "    train_df_path=\"mipt-nlp2021/seminars/sem4/train.csv\",\n",
        "    valid_df_path=\"mipt-nlp2021/seminars/sem4/test.csv\",\n",
        "    embedder=model,\n",
        "    tensorboard_dir=\"logs\",\n",
        "    hidden_dim=1024,\n",
        "    lr=0.0004,\n",
        "    use_embeds=True\n",
        ")"
      ],
      "execution_count": null,
      "outputs": []
    },
    {
      "cell_type": "code",
      "metadata": {
        "id": "JRYd6wraUYvW",
        "outputId": "fc7f10a3-526c-4c93-a1ef-593f8c09b10c"
      },
      "source": [
        "sum([p.numel() for p in learn.model.parameters() if p.requires_grad])"
      ],
      "execution_count": null,
      "outputs": [
        {
          "output_type": "execute_result",
          "data": {
            "text/plain": [
              "10562448"
            ]
          },
          "metadata": {
            "tags": []
          },
          "execution_count": 6
        }
      ]
    },
    {
      "cell_type": "code",
      "metadata": {
        "id": "xlLnkD01UYvW",
        "outputId": "9bb154a8-7fab-4920-8924-a3a94abef133"
      },
      "source": [
        "learn.model"
      ],
      "execution_count": null,
      "outputs": [
        {
          "output_type": "execute_result",
          "data": {
            "text/plain": [
              "BiLSTMCRF(\n",
              "  (embeddings): Embedding(22331, 300)\n",
              "  (lstm): BiLSTM(\n",
              "    (dropout): Dropout(p=0.3, inplace=False)\n",
              "    (lstm): LSTM(300, 512, batch_first=True, bidirectional=True)\n",
              "  )\n",
              "  (crf): CRFDecoder(\n",
              "    (input_dropout): Dropout(p=0.5, inplace=False)\n",
              "    (linear): Linears(\n",
              "      (linears): ModuleList(\n",
              "        (0): Linear(in_features=1024, out_features=512, bias=True)\n",
              "      )\n",
              "      (output_linear): Linear(in_features=512, out_features=8, bias=True)\n",
              "    )\n",
              "    (crf): CRF()\n",
              "  )\n",
              ")"
            ]
          },
          "metadata": {
            "tags": []
          },
          "execution_count": 7
        }
      ]
    },
    {
      "cell_type": "code",
      "metadata": {
        "scrolled": true,
        "id": "x-oQt3sUUYvX"
      },
      "source": [
        "learn.fit(10)"
      ],
      "execution_count": null,
      "outputs": []
    },
    {
      "cell_type": "code",
      "metadata": {
        "id": "8t_vwYOBUYvX",
        "outputId": "d205340a-98b2-4365-f7ed-d2a0111862be"
      },
      "source": [
        "print(validate_step(learn.data.valid_dl, learn.model, learn.data.train_ds.idx2label))"
      ],
      "execution_count": null,
      "outputs": [
        {
          "output_type": "stream",
          "text": [
            "                                                 \r"
          ],
          "name": "stderr"
        },
        {
          "output_type": "stream",
          "text": [
            "              precision    recall  f1-score   support\n",
            "\n",
            "       <pad>      0.000     0.000     0.000         0\n",
            "       B_LOC      0.678     0.461     0.549      1324\n",
            "       B_ORG      0.544     0.169     0.257      1905\n",
            "       B_PER      0.597     0.172     0.267      1335\n",
            "       I_LOC      0.232     0.056     0.090       233\n",
            "       I_ORG      0.404     0.135     0.203      1960\n",
            "       I_PER      0.591     0.230     0.331       777\n",
            "           O      0.900     0.986     0.941     48875\n",
            "\n",
            "    accuracy                          0.883     56409\n",
            "   macro avg      0.493     0.276     0.330     56409\n",
            "weighted avg      0.852     0.883     0.855     56409\n",
            "\n"
          ],
          "name": "stdout"
        }
      ]
    },
    {
      "cell_type": "code",
      "metadata": {
        "id": "YuKe8_JtUYvX"
      },
      "source": [
        ""
      ],
      "execution_count": null,
      "outputs": []
    }
  ]
}