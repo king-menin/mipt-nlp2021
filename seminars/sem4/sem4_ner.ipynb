{
  "nbformat": 4,
  "nbformat_minor": 0,
  "metadata": {
    "kernelspec": {
      "display_name": "Python 3",
      "language": "python",
      "name": "python3"
    },
    "language_info": {
      "codemirror_mode": {
        "name": "ipython",
        "version": 3
      },
      "file_extension": ".py",
      "mimetype": "text/x-python",
      "name": "python",
      "nbconvert_exporter": "python",
      "pygments_lexer": "ipython3",
      "version": "3.7.8"
    },
    "colab": {
      "name": "sem4_ner.ipynb",
      "provenance": [],
      "collapsed_sections": []
    },
    "accelerator": "GPU"
  },
  "cells": [
    {
      "cell_type": "markdown",
      "source": [
        "# Seminar 4 - NER"
      ],
      "metadata": {
        "id": "5cFP0JAKRk33"
      }
    },
    {
      "cell_type": "markdown",
      "metadata": {
        "id": "A2_-oFtRUYvM"
      },
      "source": [
        "### Install env"
      ]
    },
    {
      "cell_type": "code",
      "source": [
        "%%bash \n",
        "rm -rf /usr/local/cuda \n",
        "ln -s /usr/local/cuda-10.1 /usr/local/cuda"
      ],
      "metadata": {
        "id": "BJWeQKv6-39Y"
      },
      "execution_count": 1,
      "outputs": []
    },
    {
      "cell_type": "code",
      "metadata": {
        "id": "fCTgJmMjUYvQ"
      },
      "source": [
        "!pip install gensim==3.8.0"
      ],
      "execution_count": null,
      "outputs": []
    },
    {
      "cell_type": "code",
      "metadata": {
        "id": "7VF5E2pYUYvR",
        "outputId": "064ee476-e456-4f2e-c980-64f368d30b83",
        "colab": {
          "base_uri": "https://localhost:8080/"
        }
      },
      "source": [
        "!wget https://rusvectores.org/static/models/rusvectores4/fasttext/araneum_none_fasttextskipgram_300_5_2018.tgz"
      ],
      "execution_count": 3,
      "outputs": [
        {
          "output_type": "stream",
          "name": "stdout",
          "text": [
            "--2022-03-02 23:34:11--  https://rusvectores.org/static/models/rusvectores4/fasttext/araneum_none_fasttextskipgram_300_5_2018.tgz\n",
            "Resolving rusvectores.org (rusvectores.org)... 116.203.104.23\n",
            "Connecting to rusvectores.org (rusvectores.org)|116.203.104.23|:443... connected.\n",
            "HTTP request sent, awaiting response... 200 OK\n",
            "Length: 2659449819 (2.5G) [application/x-gzip]\n",
            "Saving to: ‘araneum_none_fasttextskipgram_300_5_2018.tgz’\n",
            "\n",
            "araneum_none_fastte 100%[===================>]   2.48G  32.7MB/s    in 79s     \n",
            "\n",
            "2022-03-02 23:35:30 (32.2 MB/s) - ‘araneum_none_fasttextskipgram_300_5_2018.tgz’ saved [2659449819/2659449819]\n",
            "\n"
          ]
        }
      ]
    },
    {
      "cell_type": "code",
      "metadata": {
        "id": "HFFsUcMpUYvR"
      },
      "source": [
        "!tar -xzf araneum_none_fasttextskipgram_300_5_2018.tgz"
      ],
      "execution_count": 4,
      "outputs": []
    },
    {
      "cell_type": "code",
      "metadata": {
        "id": "GEtcwrPSUYvR"
      },
      "source": [
        "!pip install sklearn-crfsuite==0.3.6"
      ],
      "execution_count": null,
      "outputs": []
    },
    {
      "cell_type": "code",
      "source": [
        "!pip install -U 'scikit-learn<0.24'"
      ],
      "metadata": {
        "id": "YghilFOXMso2"
      },
      "execution_count": null,
      "outputs": []
    },
    {
      "cell_type": "code",
      "metadata": {
        "id": "L9nDDIiqVrUM"
      },
      "source": [
        "!git clone https://github.com/king-menin/mipt-nlp2022.git"
      ],
      "execution_count": null,
      "outputs": []
    },
    {
      "cell_type": "markdown",
      "metadata": {
        "id": "eeUgkrj7UYvS"
      },
      "source": [
        "Data from https://github.com/dialogue-evaluation/factRuEval-2016"
      ]
    },
    {
      "cell_type": "code",
      "metadata": {
        "colab": {
          "base_uri": "https://localhost:8080/"
        },
        "id": "IcQWK_0eVzeL",
        "outputId": "05eea4c0-0dec-46a6-903e-8e5296021495"
      },
      "source": [
        "!ls mipt-nlp2022/seminars/sem4/"
      ],
      "execution_count": 9,
      "outputs": [
        {
          "output_type": "stream",
          "name": "stdout",
          "text": [
            "sem4_ner.ipynb\ttest.csv  train.csv\n"
          ]
        }
      ]
    },
    {
      "cell_type": "code",
      "source": [
        "!pip install natasha"
      ],
      "metadata": {
        "id": "YT3AUYeyA-1x"
      },
      "execution_count": null,
      "outputs": []
    },
    {
      "cell_type": "markdown",
      "metadata": {
        "id": "A1OoUUquUYvS"
      },
      "source": [
        "### Run exps\n",
        "FactRuEval-2016 competition of NER\n",
        "http://www.dialog-21.ru/evaluation/2016/letter/\n",
        "\n"
      ]
    },
    {
      "cell_type": "code",
      "metadata": {
        "id": "Gtw3BFiJUYvS"
      },
      "source": [
        "%load_ext autoreload\n",
        "%autoreload 2\n",
        "\n",
        "\n",
        "import sys\n",
        "import warnings\n",
        "\n",
        "\n",
        "warnings.filterwarnings(\"ignore\")\n",
        "sys.path.append(\"mipt-nlp2021/seminars/sem4/\")"
      ],
      "execution_count": null,
      "outputs": []
    },
    {
      "cell_type": "code",
      "metadata": {
        "id": "wKQHPYKvUYvT"
      },
      "source": [
        "import gensim"
      ],
      "execution_count": 1,
      "outputs": []
    },
    {
      "cell_type": "code",
      "metadata": {
        "id": "ECqq2qmuUYvT"
      },
      "source": [
        "model = gensim.models.KeyedVectors.load('araneum_none_fasttextskipgram_300_5_2018.model')"
      ],
      "execution_count": 2,
      "outputs": []
    },
    {
      "cell_type": "code",
      "metadata": {
        "id": "Dof6Tn7CUYvT"
      },
      "source": [
        "import pandas as pd"
      ],
      "execution_count": 3,
      "outputs": []
    },
    {
      "cell_type": "code",
      "source": [
        "from itertools import chain\n",
        "\n",
        "import nltk\n",
        "import sklearn\n",
        "import scipy.stats\n",
        "from sklearn.metrics import make_scorer\n",
        "from sklearn.model_selection import cross_val_score\n",
        "from sklearn.model_selection import RandomizedSearchCV\n",
        "\n",
        "import sklearn_crfsuite\n",
        "from sklearn_crfsuite import scorers\n",
        "from sklearn_crfsuite import metrics"
      ],
      "metadata": {
        "id": "XAl6oAdZCpqx"
      },
      "execution_count": 4,
      "outputs": []
    },
    {
      "cell_type": "code",
      "source": [
        "def word2features(sent, i, use_emd=False):\n",
        "    word = sent[i]\n",
        "    \n",
        "    features = {\n",
        "        'bias': 1.0,\n",
        "        'word.lower()': word.lower(),\n",
        "        'word[-3:]': word[-3:],\n",
        "        'word[-2:]': word[-2:],\n",
        "        'word.isupper()': word.isupper(),\n",
        "        'word.istitle()': word.istitle(),\n",
        "        'word.isdigit()': word.isdigit()\n",
        "    }\n",
        "    if use_emd:\n",
        "      for idx, e in enumerate(model[word]):\n",
        "        features[f\"embedding{idx}\"] = e\n",
        "    if i > 0:\n",
        "        word1 = sent[i-1]\n",
        "        features.update({\n",
        "            '-1:word.lower()': word1.lower(),\n",
        "            '-1:word.istitle()': word1.istitle(),\n",
        "            '-1:word.isupper()': word1.isupper(),\n",
        "        })\n",
        "        # for idx, e in enumerate(model[word1]):\n",
        "        #   features[f\"-1:embedding{idx}\"] = e\n",
        "    else:\n",
        "        features['BOS'] = True\n",
        "        \n",
        "    if i < len(sent)-1:\n",
        "        word1 = sent[i+1]\n",
        "        features.update({\n",
        "            '+1:word.lower()': word1.lower(),\n",
        "            '+1:word.istitle()': word1.istitle(),\n",
        "            '+1:word.isupper()': word1.isupper()\n",
        "        })\n",
        "        # for idx, e in enumerate(model[word1]):\n",
        "        #   features[f\"+1:embedding{idx}\"] = e\n",
        "    else:\n",
        "        features['EOS'] = True\n",
        "                \n",
        "    return features\n",
        "\n",
        "\n",
        "def sent2features(sent, use_emd=False):\n",
        "    return [word2features(sent, i, use_emd=use_emd) for i in range(len(sent))]"
      ],
      "metadata": {
        "id": "IW74DP86C1_t"
      },
      "execution_count": 49,
      "outputs": []
    },
    {
      "cell_type": "markdown",
      "source": [
        "### Load data"
      ],
      "metadata": {
        "id": "MeLGnDZzRQog"
      }
    },
    {
      "cell_type": "code",
      "source": [
        "train_df = pd.read_csv(\"mipt-nlp2022/seminars/sem4/train.csv\", sep=\"\\t\")"
      ],
      "metadata": {
        "id": "9FkGXe3IJTIw"
      },
      "execution_count": 29,
      "outputs": []
    },
    {
      "cell_type": "code",
      "source": [
        "train_df.head()"
      ],
      "metadata": {
        "id": "TEDurucGJz_M",
        "outputId": "33d45e9c-35d6-4c38-da64-2134365e2d7b",
        "colab": {
          "base_uri": "https://localhost:8080/",
          "height": 206
        }
      },
      "execution_count": 30,
      "outputs": [
        {
          "output_type": "execute_result",
          "data": {
            "text/html": [
              "\n",
              "  <div id=\"df-223e8646-1283-4b52-ad1b-dc13aa7c4dda\">\n",
              "    <div class=\"colab-df-container\">\n",
              "      <div>\n",
              "<style scoped>\n",
              "    .dataframe tbody tr th:only-of-type {\n",
              "        vertical-align: middle;\n",
              "    }\n",
              "\n",
              "    .dataframe tbody tr th {\n",
              "        vertical-align: top;\n",
              "    }\n",
              "\n",
              "    .dataframe thead th {\n",
              "        text-align: right;\n",
              "    }\n",
              "</style>\n",
              "<table border=\"1\" class=\"dataframe\">\n",
              "  <thead>\n",
              "    <tr style=\"text-align: right;\">\n",
              "      <th></th>\n",
              "      <th>labels</th>\n",
              "      <th>text</th>\n",
              "      <th>clf</th>\n",
              "    </tr>\n",
              "  </thead>\n",
              "  <tbody>\n",
              "    <tr>\n",
              "      <th>0</th>\n",
              "      <td>O O O O O O B_ORG I_ORG O B_LOC I_LOC O O O O ...</td>\n",
              "      <td>В понедельник 28 июня у здания мэрии Москвы на...</td>\n",
              "      <td>False</td>\n",
              "    </tr>\n",
              "    <tr>\n",
              "      <th>1</th>\n",
              "      <td>O O O O O O O O O O O B_LOC B_PER I_PER O O O ...</td>\n",
              "      <td>Среди требований , выдвигаемых организаторами ...</td>\n",
              "      <td>False</td>\n",
              "    </tr>\n",
              "    <tr>\n",
              "      <th>2</th>\n",
              "      <td>O O O O O O O O O O O O O O O O O O O O B_PER ...</td>\n",
              "      <td>Участникам акции предлагалось принести с собой...</td>\n",
              "      <td>False</td>\n",
              "    </tr>\n",
              "    <tr>\n",
              "      <th>3</th>\n",
              "      <td>O O O O O O O O O O O O O O O O O</td>\n",
              "      <td>Начало акции было намечено на 19 часов ; подчё...</td>\n",
              "      <td>True</td>\n",
              "    </tr>\n",
              "    <tr>\n",
              "      <th>4</th>\n",
              "      <td>O O O O O O O O O O O O O B_LOC I_LOC I_LOC O ...</td>\n",
              "      <td>Освещающие акцию блоггеры сообщили , что автоб...</td>\n",
              "      <td>False</td>\n",
              "    </tr>\n",
              "  </tbody>\n",
              "</table>\n",
              "</div>\n",
              "      <button class=\"colab-df-convert\" onclick=\"convertToInteractive('df-223e8646-1283-4b52-ad1b-dc13aa7c4dda')\"\n",
              "              title=\"Convert this dataframe to an interactive table.\"\n",
              "              style=\"display:none;\">\n",
              "        \n",
              "  <svg xmlns=\"http://www.w3.org/2000/svg\" height=\"24px\"viewBox=\"0 0 24 24\"\n",
              "       width=\"24px\">\n",
              "    <path d=\"M0 0h24v24H0V0z\" fill=\"none\"/>\n",
              "    <path d=\"M18.56 5.44l.94 2.06.94-2.06 2.06-.94-2.06-.94-.94-2.06-.94 2.06-2.06.94zm-11 1L8.5 8.5l.94-2.06 2.06-.94-2.06-.94L8.5 2.5l-.94 2.06-2.06.94zm10 10l.94 2.06.94-2.06 2.06-.94-2.06-.94-.94-2.06-.94 2.06-2.06.94z\"/><path d=\"M17.41 7.96l-1.37-1.37c-.4-.4-.92-.59-1.43-.59-.52 0-1.04.2-1.43.59L10.3 9.45l-7.72 7.72c-.78.78-.78 2.05 0 2.83L4 21.41c.39.39.9.59 1.41.59.51 0 1.02-.2 1.41-.59l7.78-7.78 2.81-2.81c.8-.78.8-2.07 0-2.86zM5.41 20L4 18.59l7.72-7.72 1.47 1.35L5.41 20z\"/>\n",
              "  </svg>\n",
              "      </button>\n",
              "      \n",
              "  <style>\n",
              "    .colab-df-container {\n",
              "      display:flex;\n",
              "      flex-wrap:wrap;\n",
              "      gap: 12px;\n",
              "    }\n",
              "\n",
              "    .colab-df-convert {\n",
              "      background-color: #E8F0FE;\n",
              "      border: none;\n",
              "      border-radius: 50%;\n",
              "      cursor: pointer;\n",
              "      display: none;\n",
              "      fill: #1967D2;\n",
              "      height: 32px;\n",
              "      padding: 0 0 0 0;\n",
              "      width: 32px;\n",
              "    }\n",
              "\n",
              "    .colab-df-convert:hover {\n",
              "      background-color: #E2EBFA;\n",
              "      box-shadow: 0px 1px 2px rgba(60, 64, 67, 0.3), 0px 1px 3px 1px rgba(60, 64, 67, 0.15);\n",
              "      fill: #174EA6;\n",
              "    }\n",
              "\n",
              "    [theme=dark] .colab-df-convert {\n",
              "      background-color: #3B4455;\n",
              "      fill: #D2E3FC;\n",
              "    }\n",
              "\n",
              "    [theme=dark] .colab-df-convert:hover {\n",
              "      background-color: #434B5C;\n",
              "      box-shadow: 0px 1px 3px 1px rgba(0, 0, 0, 0.15);\n",
              "      filter: drop-shadow(0px 1px 2px rgba(0, 0, 0, 0.3));\n",
              "      fill: #FFFFFF;\n",
              "    }\n",
              "  </style>\n",
              "\n",
              "      <script>\n",
              "        const buttonEl =\n",
              "          document.querySelector('#df-223e8646-1283-4b52-ad1b-dc13aa7c4dda button.colab-df-convert');\n",
              "        buttonEl.style.display =\n",
              "          google.colab.kernel.accessAllowed ? 'block' : 'none';\n",
              "\n",
              "        async function convertToInteractive(key) {\n",
              "          const element = document.querySelector('#df-223e8646-1283-4b52-ad1b-dc13aa7c4dda');\n",
              "          const dataTable =\n",
              "            await google.colab.kernel.invokeFunction('convertToInteractive',\n",
              "                                                     [key], {});\n",
              "          if (!dataTable) return;\n",
              "\n",
              "          const docLinkHtml = 'Like what you see? Visit the ' +\n",
              "            '<a target=\"_blank\" href=https://colab.research.google.com/notebooks/data_table.ipynb>data table notebook</a>'\n",
              "            + ' to learn more about interactive tables.';\n",
              "          element.innerHTML = '';\n",
              "          dataTable['output_type'] = 'display_data';\n",
              "          await google.colab.output.renderOutput(dataTable, element);\n",
              "          const docLink = document.createElement('div');\n",
              "          docLink.innerHTML = docLinkHtml;\n",
              "          element.appendChild(docLink);\n",
              "        }\n",
              "      </script>\n",
              "    </div>\n",
              "  </div>\n",
              "  "
            ],
            "text/plain": [
              "                                              labels  ...    clf\n",
              "0  O O O O O O B_ORG I_ORG O B_LOC I_LOC O O O O ...  ...  False\n",
              "1  O O O O O O O O O O O B_LOC B_PER I_PER O O O ...  ...  False\n",
              "2  O O O O O O O O O O O O O O O O O O O O B_PER ...  ...  False\n",
              "3                  O O O O O O O O O O O O O O O O O  ...   True\n",
              "4  O O O O O O O O O O O O O B_LOC I_LOC I_LOC O ...  ...  False\n",
              "\n",
              "[5 rows x 3 columns]"
            ]
          },
          "metadata": {},
          "execution_count": 30
        }
      ]
    },
    {
      "cell_type": "code",
      "source": [
        "train_sents = list(map(lambda x: x.split(), train_df.text))"
      ],
      "metadata": {
        "id": "EeyAyy5xJDuf"
      },
      "execution_count": 31,
      "outputs": []
    },
    {
      "cell_type": "code",
      "source": [
        "train_labels = list(map(lambda x: x.split(), train_df.labels))"
      ],
      "metadata": {
        "id": "AqykSLMYJvpw"
      },
      "execution_count": 32,
      "outputs": []
    },
    {
      "cell_type": "code",
      "source": [
        "print(list(zip(train_sents[0][:10], train_labels[0][:10])))"
      ],
      "metadata": {
        "id": "U8hmah9VJ5iz",
        "outputId": "8442caaa-3f74-4ea3-a3e3-f21e501aaf70",
        "colab": {
          "base_uri": "https://localhost:8080/"
        }
      },
      "execution_count": 33,
      "outputs": [
        {
          "output_type": "stream",
          "name": "stdout",
          "text": [
            "[('В', 'O'), ('понедельник', 'O'), ('28', 'O'), ('июня', 'O'), ('у', 'O'), ('здания', 'O'), ('мэрии', 'B_ORG'), ('Москвы', 'I_ORG'), ('на', 'O'), ('Тверской', 'B_LOC')]\n"
          ]
        }
      ]
    },
    {
      "cell_type": "code",
      "source": [
        "labels = []\n",
        "for l in train_labels:\n",
        "  labels.extend(l)\n",
        "\n",
        "labels = set(labels)"
      ],
      "metadata": {
        "id": "WIPoawe_NVRa"
      },
      "execution_count": 34,
      "outputs": []
    },
    {
      "cell_type": "code",
      "source": [
        "labels"
      ],
      "metadata": {
        "id": "7SJrHcQ-NfDU",
        "outputId": "866151ac-4ceb-46a5-bb48-63d33745ecf3",
        "colab": {
          "base_uri": "https://localhost:8080/"
        }
      },
      "execution_count": 35,
      "outputs": [
        {
          "output_type": "execute_result",
          "data": {
            "text/plain": [
              "{'B_LOC', 'B_ORG', 'B_PER', 'I_LOC', 'I_ORG', 'I_PER', 'O'}"
            ]
          },
          "metadata": {},
          "execution_count": 35
        }
      ]
    },
    {
      "cell_type": "code",
      "source": [
        "# sent2features(train_sents[0])[0]"
      ],
      "metadata": {
        "id": "Y3PjMpGGC4gT"
      },
      "execution_count": 36,
      "outputs": []
    },
    {
      "cell_type": "markdown",
      "source": [
        "### Prepare features"
      ],
      "metadata": {
        "id": "r3366QDgRU8t"
      }
    },
    {
      "cell_type": "code",
      "source": [
        "test_df = pd.read_csv(\"mipt-nlp2022/seminars/sem4/test.csv\", sep=\"\\t\")"
      ],
      "metadata": {
        "id": "LdMF330XKJ6C"
      },
      "execution_count": 37,
      "outputs": []
    },
    {
      "cell_type": "code",
      "source": [
        "test_sents = list(map(lambda x: x.split(), test_df.text))"
      ],
      "metadata": {
        "id": "damETr2KKQmz"
      },
      "execution_count": 38,
      "outputs": []
    },
    {
      "cell_type": "code",
      "source": [
        "test_labels = list(map(lambda x: x.split(), test_df.labels))"
      ],
      "metadata": {
        "id": "s47_PudwKQmz"
      },
      "execution_count": 39,
      "outputs": []
    },
    {
      "cell_type": "code",
      "source": [
        "%%time\n",
        "X_train = [sent2features(s) for s in train_sents]\n",
        "y_train = train_labels\n",
        "\n",
        "X_test = [sent2features(s) for s in test_sents]\n",
        "y_test = test_labels"
      ],
      "metadata": {
        "id": "Lb7OL0gaC6Mr",
        "outputId": "3c710757-2886-471f-b78d-9dab12cfa53b",
        "colab": {
          "base_uri": "https://localhost:8080/"
        }
      },
      "execution_count": 40,
      "outputs": [
        {
          "output_type": "stream",
          "name": "stdout",
          "text": [
            "CPU times: user 428 ms, sys: 2.14 s, total: 2.57 s\n",
            "Wall time: 2.56 s\n"
          ]
        }
      ]
    },
    {
      "cell_type": "markdown",
      "source": [
        "### Learn crf"
      ],
      "metadata": {
        "id": "kl7WUjjnRXQp"
      }
    },
    {
      "cell_type": "code",
      "source": [
        "crf = sklearn_crfsuite.CRF(\n",
        "    algorithm='lbfgs',\n",
        "    c1=0.1,\n",
        "    c2=0.1,\n",
        "    max_iterations=100,\n",
        "    all_possible_transitions=True\n",
        ")\n",
        "crf.fit(X_train, y_train)"
      ],
      "metadata": {
        "id": "sZ88Ni5UC9bQ",
        "outputId": "8cc45c9e-69a5-4d8e-ed2d-f91dffad7e88",
        "colab": {
          "base_uri": "https://localhost:8080/"
        }
      },
      "execution_count": 41,
      "outputs": [
        {
          "output_type": "stream",
          "name": "stderr",
          "text": [
            "/usr/local/lib/python3.7/dist-packages/sklearn/base.py:213: FutureWarning: From version 0.24, get_params will raise an AttributeError if a parameter cannot be retrieved as an instance attribute. Previously it would return None.\n",
            "  FutureWarning)\n"
          ]
        },
        {
          "output_type": "execute_result",
          "data": {
            "text/plain": [
              "CRF(algorithm='lbfgs', all_possible_transitions=True, c1=0.1, c2=0.1,\n",
              "    keep_tempfiles=None, max_iterations=100)"
            ]
          },
          "metadata": {},
          "execution_count": 41
        }
      ]
    },
    {
      "cell_type": "markdown",
      "source": [
        "### Predict on test"
      ],
      "metadata": {
        "id": "b1PrGJB5RbzB"
      }
    },
    {
      "cell_type": "code",
      "source": [
        "y_pred = crf.predict(X_test)\n"
      ],
      "metadata": {
        "id": "lmWcfIBPLdbF"
      },
      "execution_count": 42,
      "outputs": []
    },
    {
      "cell_type": "code",
      "source": [
        "metrics.flat_f1_score(y_test, y_pred, average='weighted', labels=list(crf.classes_))"
      ],
      "metadata": {
        "colab": {
          "base_uri": "https://localhost:8080/"
        },
        "id": "tzfkxLGCNPBD",
        "outputId": "21804003-a174-4cc3-cc85-a29f3b68d194"
      },
      "execution_count": 43,
      "outputs": [
        {
          "output_type": "execute_result",
          "data": {
            "text/plain": [
              "0.9148296688647011"
            ]
          },
          "metadata": {},
          "execution_count": 43
        }
      ]
    },
    {
      "cell_type": "code",
      "source": [
        "labels = list(crf.classes_)\n",
        "labels.remove('O')\n",
        "labels"
      ],
      "metadata": {
        "colab": {
          "base_uri": "https://localhost:8080/"
        },
        "id": "3JbpqUj7NsyS",
        "outputId": "237bd3dd-3842-4786-870a-02b93adc98db"
      },
      "execution_count": 44,
      "outputs": [
        {
          "output_type": "execute_result",
          "data": {
            "text/plain": [
              "['B_ORG', 'I_ORG', 'B_LOC', 'I_LOC', 'B_PER', 'I_PER']"
            ]
          },
          "metadata": {},
          "execution_count": 44
        }
      ]
    },
    {
      "cell_type": "code",
      "source": [
        "metrics.flat_f1_score(y_test, y_pred, average='weighted', labels=labels)"
      ],
      "metadata": {
        "colab": {
          "base_uri": "https://localhost:8080/"
        },
        "id": "qSu5Y6_7NvfE",
        "outputId": "c41b8f8d-428f-4889-e21a-daad856bafa2"
      },
      "execution_count": 45,
      "outputs": [
        {
          "output_type": "execute_result",
          "data": {
            "text/plain": [
              "0.5611414601220519"
            ]
          },
          "metadata": {},
          "execution_count": 45
        }
      ]
    },
    {
      "cell_type": "code",
      "source": [
        "print(metrics.flat_classification_report(\n",
        "    y_test, y_pred, labels=labels, digits=3\n",
        "))"
      ],
      "metadata": {
        "colab": {
          "base_uri": "https://localhost:8080/"
        },
        "id": "DzSqAfq3NyQT",
        "outputId": "4bdeb8af-0584-489b-afb1-f7547a7a8ccd"
      },
      "execution_count": 46,
      "outputs": [
        {
          "output_type": "stream",
          "name": "stderr",
          "text": [
            "/usr/local/lib/python3.7/dist-packages/sklearn/utils/validation.py:70: FutureWarning: Pass labels=['B_ORG', 'I_ORG', 'B_LOC', 'I_LOC', 'B_PER', 'I_PER'] as keyword args. From version 0.25 passing these as positional arguments will result in an error\n",
            "  FutureWarning)\n"
          ]
        },
        {
          "output_type": "stream",
          "name": "stdout",
          "text": [
            "              precision    recall  f1-score   support\n",
            "\n",
            "       B_ORG      0.735     0.304     0.430      1905\n",
            "       I_ORG      0.624     0.347     0.446      1960\n",
            "       B_LOC      0.681     0.735     0.707      1324\n",
            "       I_LOC      0.402     0.176     0.245       233\n",
            "       B_PER      0.737     0.637     0.683      1335\n",
            "       I_PER      0.736     0.898     0.809       777\n",
            "\n",
            "   micro avg      0.693     0.507     0.586      7534\n",
            "   macro avg      0.652     0.516     0.553      7534\n",
            "weighted avg      0.687     0.507     0.561      7534\n",
            "\n"
          ]
        }
      ]
    },
    {
      "cell_type": "markdown",
      "source": [
        "## Add word embedding"
      ],
      "metadata": {
        "id": "ADOBmywwRKIq"
      }
    },
    {
      "cell_type": "code",
      "source": [
        "%%time\n",
        "X_train = [sent2features(s, True) for s in train_sents]\n",
        "y_train = train_labels\n",
        "\n",
        "X_test = [sent2features(s, True) for s in test_sents]\n",
        "y_test = test_labels"
      ],
      "metadata": {
        "id": "V1K2l8f_N708",
        "outputId": "adf1960f-8d93-45ed-d619-79c3fe4af92a",
        "colab": {
          "base_uri": "https://localhost:8080/"
        }
      },
      "execution_count": 50,
      "outputs": [
        {
          "output_type": "stream",
          "name": "stdout",
          "text": [
            "CPU times: user 12.9 s, sys: 2.11 s, total: 15 s\n",
            "Wall time: 13.9 s\n"
          ]
        }
      ]
    },
    {
      "cell_type": "code",
      "source": [
        "crf = sklearn_crfsuite.CRF(\n",
        "    algorithm='lbfgs',\n",
        "    c1=0.1,\n",
        "    c2=0.1,\n",
        "    max_iterations=100,\n",
        "    all_possible_transitions=True\n",
        ")\n",
        "crf.fit(X_train, y_train)"
      ],
      "metadata": {
        "id": "qGgbXqFzOiha",
        "outputId": "ad218979-9ee5-43d0-f86a-044c112ab62d",
        "colab": {
          "base_uri": "https://localhost:8080/"
        }
      },
      "execution_count": 51,
      "outputs": [
        {
          "output_type": "stream",
          "name": "stderr",
          "text": [
            "/usr/local/lib/python3.7/dist-packages/sklearn/base.py:213: FutureWarning: From version 0.24, get_params will raise an AttributeError if a parameter cannot be retrieved as an instance attribute. Previously it would return None.\n",
            "  FutureWarning)\n"
          ]
        },
        {
          "output_type": "execute_result",
          "data": {
            "text/plain": [
              "CRF(algorithm='lbfgs', all_possible_transitions=True, c1=0.1, c2=0.1,\n",
              "    keep_tempfiles=None, max_iterations=100)"
            ]
          },
          "metadata": {},
          "execution_count": 51
        }
      ]
    },
    {
      "cell_type": "code",
      "source": [
        ""
      ],
      "metadata": {
        "id": "21vKD5TLOwOo"
      },
      "execution_count": null,
      "outputs": []
    },
    {
      "cell_type": "code",
      "source": [
        "y_pred = crf.predict(X_test)"
      ],
      "metadata": {
        "id": "pyn9l3eXO3dF"
      },
      "execution_count": 52,
      "outputs": []
    },
    {
      "cell_type": "code",
      "source": [
        "metrics.flat_f1_score(y_test, y_pred, average='weighted', labels=list(crf.classes_))"
      ],
      "metadata": {
        "outputId": "df5813f8-43f6-4bc9-a329-fdb9c597ac1b",
        "colab": {
          "base_uri": "https://localhost:8080/"
        },
        "id": "CIeXUurYO3dF"
      },
      "execution_count": 53,
      "outputs": [
        {
          "output_type": "execute_result",
          "data": {
            "text/plain": [
              "0.9194891513334035"
            ]
          },
          "metadata": {},
          "execution_count": 53
        }
      ]
    },
    {
      "cell_type": "code",
      "source": [
        "labels = list(crf.classes_)\n",
        "labels.remove('O')\n",
        "labels"
      ],
      "metadata": {
        "outputId": "8382f3b5-c4b8-4768-8a78-fc8fa9e8016d",
        "colab": {
          "base_uri": "https://localhost:8080/"
        },
        "id": "ZxngNpI-O3dG"
      },
      "execution_count": 54,
      "outputs": [
        {
          "output_type": "execute_result",
          "data": {
            "text/plain": [
              "['B_ORG', 'I_ORG', 'B_LOC', 'I_LOC', 'B_PER', 'I_PER']"
            ]
          },
          "metadata": {},
          "execution_count": 54
        }
      ]
    },
    {
      "cell_type": "code",
      "source": [
        "metrics.flat_f1_score(y_test, y_pred, average='weighted', labels=labels)"
      ],
      "metadata": {
        "outputId": "68c1cefc-850a-49ef-db1d-ae50c7cca58f",
        "colab": {
          "base_uri": "https://localhost:8080/"
        },
        "id": "VMXEw-iIO3dG"
      },
      "execution_count": 55,
      "outputs": [
        {
          "output_type": "execute_result",
          "data": {
            "text/plain": [
              "0.5895331219058161"
            ]
          },
          "metadata": {},
          "execution_count": 55
        }
      ]
    },
    {
      "cell_type": "code",
      "source": [
        "print(metrics.flat_classification_report(\n",
        "    y_test, y_pred, labels=labels, digits=3\n",
        "))"
      ],
      "metadata": {
        "outputId": "a4ebdeaa-653f-4e74-af0a-f5970c4df61a",
        "colab": {
          "base_uri": "https://localhost:8080/"
        },
        "id": "_abik-5FO3dG"
      },
      "execution_count": 56,
      "outputs": [
        {
          "output_type": "stream",
          "name": "stderr",
          "text": [
            "/usr/local/lib/python3.7/dist-packages/sklearn/utils/validation.py:70: FutureWarning: Pass labels=['B_ORG', 'I_ORG', 'B_LOC', 'I_LOC', 'B_PER', 'I_PER'] as keyword args. From version 0.25 passing these as positional arguments will result in an error\n",
            "  FutureWarning)\n"
          ]
        },
        {
          "output_type": "stream",
          "name": "stdout",
          "text": [
            "              precision    recall  f1-score   support\n",
            "\n",
            "       B_ORG      0.714     0.343     0.463      1905\n",
            "       I_ORG      0.657     0.400     0.497      1960\n",
            "       B_LOC      0.679     0.738     0.707      1324\n",
            "       I_LOC      0.377     0.185     0.248       233\n",
            "       B_PER      0.759     0.650     0.700      1335\n",
            "       I_PER      0.781     0.918     0.844       777\n",
            "\n",
            "   micro avg      0.706     0.536     0.609      7534\n",
            "   macro avg      0.661     0.539     0.577      7534\n",
            "weighted avg      0.697     0.536     0.590      7534\n",
            "\n"
          ]
        }
      ]
    },
    {
      "cell_type": "markdown",
      "source": [
        "## Natasha"
      ],
      "metadata": {
        "id": "jFkglsqSRGvZ"
      }
    },
    {
      "cell_type": "code",
      "source": [
        "from natasha import Doc, NewsNERTagger, NewsEmbedding, Segmenter"
      ],
      "metadata": {
        "id": "_49mtXS6O5R_"
      },
      "execution_count": 65,
      "outputs": []
    },
    {
      "cell_type": "code",
      "source": [
        "segmenter = Segmenter()\n",
        "emb = NewsEmbedding()\n",
        "\n",
        "ner_tagger = NewsNERTagger(emb)"
      ],
      "metadata": {
        "id": "vekT3gzaPj3T"
      },
      "execution_count": 66,
      "outputs": []
    },
    {
      "cell_type": "code",
      "source": [
        "doc = Doc(train_df.text[0])"
      ],
      "metadata": {
        "id": "a_IoqN_iO-VO"
      },
      "execution_count": 67,
      "outputs": []
    },
    {
      "cell_type": "code",
      "source": [
        "doc.segment(segmenter)\n",
        "doc.tag_ner(ner_tagger)"
      ],
      "metadata": {
        "id": "_teH9XrqO-ZT"
      },
      "execution_count": 68,
      "outputs": []
    },
    {
      "cell_type": "code",
      "source": [
        "print(doc.spans)"
      ],
      "metadata": {
        "id": "UipLwg2LQwzE",
        "outputId": "b9089578-1c12-45fc-cdde-d8633e23cee5",
        "colab": {
          "base_uri": "https://localhost:8080/"
        }
      },
      "execution_count": 72,
      "outputs": [
        {
          "output_type": "stream",
          "name": "stdout",
          "text": [
            "[DocSpan(start=37, stop=43, type='LOC', text='Москвы', tokens=[...]), DocSpan(start=47, stop=63, type='LOC', text='Тверской площади', tokens=[...])]\n"
          ]
        }
      ]
    },
    {
      "cell_type": "code",
      "source": [
        "doc.ner.print()"
      ],
      "metadata": {
        "id": "bpA-lFo3O-cO",
        "outputId": "be4b5a80-ca02-4c61-d7c1-62c64c0f0582",
        "colab": {
          "base_uri": "https://localhost:8080/"
        }
      },
      "execution_count": 69,
      "outputs": [
        {
          "output_type": "stream",
          "name": "stdout",
          "text": [
            "В понедельник 28 июня у здания мэрии Москвы на Тверской площади \n",
            "                                     LOC───    LOC───────────── \n",
            "состоялась очередная несанкционированная акция протеста « День гнева »\n",
            " , в этот раз направленная , главным образом , против политики \n",
            "московских и подмосковных властей\n"
          ]
        }
      ]
    },
    {
      "cell_type": "code",
      "source": [
        "print(list(zip(train_sents[0][:15], train_labels[0][:15])))"
      ],
      "metadata": {
        "id": "5zGaUy7cQR0K",
        "outputId": "5f286179-376d-4431-ffdb-6ff7c7ab4b1c",
        "colab": {
          "base_uri": "https://localhost:8080/"
        }
      },
      "execution_count": 74,
      "outputs": [
        {
          "output_type": "stream",
          "name": "stdout",
          "text": [
            "[('В', 'O'), ('понедельник', 'O'), ('28', 'O'), ('июня', 'O'), ('у', 'O'), ('здания', 'O'), ('мэрии', 'B_ORG'), ('Москвы', 'I_ORG'), ('на', 'O'), ('Тверской', 'B_LOC'), ('площади', 'I_LOC'), ('состоялась', 'O'), ('очередная', 'O'), ('несанкционированная', 'O'), ('акция', 'O')]\n"
          ]
        }
      ]
    },
    {
      "cell_type": "code",
      "source": [
        ""
      ],
      "metadata": {
        "id": "z2azSbbPQjmN"
      },
      "execution_count": null,
      "outputs": []
    }
  ]
}